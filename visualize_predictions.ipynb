{
 "cells": [
  {
   "cell_type": "code",
   "execution_count": null,
   "metadata": {},
   "outputs": [],
   "source": [
    "import matplotlib.pyplot as plt\n",
    "import pandas as pd\n",
    "\n",
    "from predict_prices import predict_prices, get_validation_data, evalute_predictor\n",
    "from predictors.median import predict_with_median\n",
    "from predictors.linear_regression_one_variable import predict_with_lot_area\n",
    "from predictors.linear_regression_all_easy_variables import predict_with_all_easy_linear, predict_with_ridge, predict_with_polynomial_features_and_ridge\n",
    "\n",
    "train = pd.read_csv(\"data_from_kaggle/train.csv\")\n",
    "(training, validation) = get_validation_data(pd.read_csv(\"data_from_kaggle/train.csv\"))"
   ]
  },
  {
   "cell_type": "markdown",
   "metadata": {},
   "source": [
    "## Get a general sense of the data\n",
    "### Plot actual sale price by square footage in validation to get a sense of the data"
   ]
  },
  {
   "cell_type": "code",
   "execution_count": null,
   "metadata": {},
   "outputs": [],
   "source": [
    "def visualize_prices(data, x=\"GrLivArea\"):\n",
    "    plt.scatter(data[x], data[\"SalePrice\"])\n",
    "    plt.ylim(10000,1000000)\n",
    "    plt.show() "
   ]
  },
  {
   "cell_type": "code",
   "execution_count": null,
   "metadata": {},
   "outputs": [],
   "source": [
    "visualize_prices(validation)"
   ]
  },
  {
   "cell_type": "markdown",
   "metadata": {},
   "source": [
    "### Plot price over time to try to figure out to what extent this is time series data"
   ]
  },
  {
   "cell_type": "code",
   "execution_count": null,
   "metadata": {},
   "outputs": [],
   "source": [
    "visualize_prices(validation,\"YrSold\")"
   ]
  },
  {
   "cell_type": "code",
   "execution_count": null,
   "metadata": {},
   "outputs": [],
   "source": [
    "visualize_prices(validation,\"MoSold\")"
   ]
  },
  {
   "cell_type": "code",
   "execution_count": null,
   "metadata": {},
   "outputs": [],
   "source": [
    "YrMoSold = train.loc[ : , \"YrSold\"] + ((train.loc[ : , \"MoSold\"] - 1) / 12)\n",
    "plt.scatter(YrMoSold, train[\"SalePrice\"])\n",
    "plt.ylim(10000,1000000)\n",
    "plt.show()"
   ]
  },
  {
   "cell_type": "code",
   "execution_count": null,
   "metadata": {},
   "outputs": [],
   "source": [
    "with_yr_mo = train.assign(YrMoSold=YrMoSold)\n",
    "grouped_by_yr_mo = with_yr_mo.groupby('YrMoSold')\n",
    "mean_sale_price = grouped_by_yr_mo.SalePrice.mean()\n",
    "plt.scatter(mean_sale_price.index, mean_sale_price.values)\n",
    "plt.ylim(100000,300000)\n",
    "plt.show()"
   ]
  },
  {
   "cell_type": "markdown",
   "metadata": {},
   "source": [
    "To my eye, there's no obvious huge temporal pattern"
   ]
  },
  {
   "cell_type": "markdown",
   "metadata": {},
   "source": [
    "## For each predictor, plot predicted sale price by square footage. Also, show RMSE on validation for that predictor."
   ]
  },
  {
   "cell_type": "markdown",
   "metadata": {},
   "source": [
    "### Predict that each house in test will have sell for the median price of a house in train:"
   ]
  },
  {
   "cell_type": "code",
   "execution_count": null,
   "metadata": {},
   "outputs": [],
   "source": [
    "visualize_prices(predict_with_median(training, validation))"
   ]
  },
  {
   "cell_type": "code",
   "execution_count": null,
   "metadata": {},
   "outputs": [],
   "source": [
    "evalute_predictor(\"data_from_kaggle/train.csv\", predict_with_median)"
   ]
  },
  {
   "cell_type": "markdown",
   "metadata": {},
   "source": [
    "### Single variable linear regression using lot area:"
   ]
  },
  {
   "cell_type": "code",
   "execution_count": null,
   "metadata": {},
   "outputs": [],
   "source": [
    "visualize_prices(predict_with_lot_area(training, validation))"
   ]
  },
  {
   "cell_type": "code",
   "execution_count": null,
   "metadata": {},
   "outputs": [],
   "source": [
    "evalute_predictor(\"data_from_kaggle/train.csv\", predict_with_lot_area)"
   ]
  },
  {
   "cell_type": "markdown",
   "metadata": {},
   "source": [
    "### Linear regression using naively all features that are expressed as numbers:"
   ]
  },
  {
   "cell_type": "code",
   "execution_count": null,
   "metadata": {},
   "outputs": [],
   "source": [
    "visualize_prices(predict_with_all_easy_linear(training, validation))"
   ]
  },
  {
   "cell_type": "code",
   "execution_count": null,
   "metadata": {},
   "outputs": [],
   "source": [
    "evalute_predictor(\"data_from_kaggle/train.csv\", predict_with_all_easy_linear)"
   ]
  },
  {
   "cell_type": "markdown",
   "metadata": {},
   "source": [
    "### Ridge regression -- a type of regularized linear regression: https://scikit-learn.org/stable/modules/linear_model.html"
   ]
  },
  {
   "cell_type": "code",
   "execution_count": null,
   "metadata": {},
   "outputs": [],
   "source": [
    "visualize_prices(predict_with_ridge(training, validation))"
   ]
  },
  {
   "cell_type": "code",
   "execution_count": null,
   "metadata": {},
   "outputs": [],
   "source": [
    "evalute_predictor(\"data_from_kaggle/train.csv\", predict_with_ridge)"
   ]
  },
  {
   "cell_type": "markdown",
   "metadata": {},
   "source": [
    "### Polynomial features + ridge regression"
   ]
  },
  {
   "cell_type": "code",
   "execution_count": null,
   "metadata": {},
   "outputs": [],
   "source": [
    "visualize_prices(predict_with_polynomial_features_and_ridge(training, validation, {\"degree\": 2, \"clip\": 100000}))"
   ]
  },
  {
   "cell_type": "code",
   "execution_count": null,
   "metadata": {},
   "outputs": [],
   "source": [
    "evalute_predictor(\"data_from_kaggle/train.csv\", predict_with_polynomial_features_and_ridge, {\"degree\": 2, \"clip\": 100000})"
   ]
  },
  {
   "cell_type": "code",
   "execution_count": null,
   "metadata": {},
   "outputs": [],
   "source": [
    "visualize_prices(predict_with_polynomial_features_and_ridge(training, validation, {\"degree\": 3, \"clip\": 100000}))"
   ]
  },
  {
   "cell_type": "code",
   "execution_count": null,
   "metadata": {},
   "outputs": [],
   "source": [
    "visualize_prices(predict_with_polynomial_features_and_ridge(training, validation, {\"degree\": 2, \"clip\": 10000}))"
   ]
  },
  {
   "cell_type": "code",
   "execution_count": null,
   "metadata": {},
   "outputs": [],
   "source": [
    "evalute_predictor(\"data_from_kaggle/train.csv\", predict_with_polynomial_features_and_ridge, {\"degree\": 2, \"clip\": 10000})"
   ]
  },
  {
   "cell_type": "code",
   "execution_count": null,
   "metadata": {},
   "outputs": [],
   "source": []
  }
 ],
 "metadata": {
  "kernelspec": {
   "display_name": "Python 3",
   "language": "python",
   "name": "python3"
  },
  "language_info": {
   "codemirror_mode": {
    "name": "ipython",
    "version": 3
   },
   "file_extension": ".py",
   "mimetype": "text/x-python",
   "name": "python",
   "nbconvert_exporter": "python",
   "pygments_lexer": "ipython3",
   "version": "3.7.4"
  }
 },
 "nbformat": 4,
 "nbformat_minor": 4
}
